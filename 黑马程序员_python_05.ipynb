{
 "cells": [
  {
   "cell_type": "markdown",
   "metadata": {},
   "source": [
    "# 黑马班python第五天学习笔记"
   ]
  },
  {
   "cell_type": "markdown",
   "metadata": {},
   "source": [
    "## 1 for循环"
   ]
  },
  {
   "cell_type": "markdown",
   "metadata": {},
   "source": [
    "### 1.1 语法"
   ]
  },
  {
   "cell_type": "code",
   "execution_count": 3,
   "metadata": {},
   "outputs": [
    {
     "name": "stdout",
     "output_type": "stream",
     "text": [
      "j\n",
      "u\n",
      "p\n",
      "y\n",
      "t\n",
      "e\n",
      "r\n"
     ]
    }
   ],
   "source": [
    "str1 = 'jupyter'\n",
    "\n",
    "for i in str1:\n",
    "    print(i)"
   ]
  },
  {
   "cell_type": "markdown",
   "metadata": {},
   "source": [
    "### 1.2 break"
   ]
  },
  {
   "cell_type": "code",
   "execution_count": 7,
   "metadata": {},
   "outputs": [
    {
     "name": "stdout",
     "output_type": "stream",
     "text": [
      "j\n",
      "u\n",
      "p\n",
      "y\n",
      "t\n",
      "遇到e停止\n"
     ]
    }
   ],
   "source": [
    "str1 = 'jupyter'\n",
    "\n",
    "for i in str1:\n",
    "    \n",
    "    if i == 'e':\n",
    "        print('遇到e停止')\n",
    "        break\n",
    "    \n",
    "    print(i)"
   ]
  },
  {
   "cell_type": "markdown",
   "metadata": {},
   "source": [
    "### 1.3 continue"
   ]
  },
  {
   "cell_type": "code",
   "execution_count": 6,
   "metadata": {},
   "outputs": [
    {
     "name": "stdout",
     "output_type": "stream",
     "text": [
      "j\n",
      "u\n",
      "p\n",
      "y\n",
      "t\n",
      "跳过e\n",
      "r\n"
     ]
    }
   ],
   "source": [
    "str1 = 'jupyter'\n",
    "\n",
    "for i in str1:\n",
    "    \n",
    "    if i == 'e':\n",
    "        print('跳过e')\n",
    "        continue\n",
    "    \n",
    "    print(i)"
   ]
  },
  {
   "cell_type": "markdown",
   "metadata": {},
   "source": [
    "## 2 while...else..."
   ]
  },
  {
   "cell_type": "markdown",
   "metadata": {},
   "source": [
    "### 2.1 语法"
   ]
  },
  {
   "cell_type": "markdown",
   "metadata": {},
   "source": [
    "> else中的内容要while中内容执行完才能执行"
   ]
  },
  {
   "cell_type": "code",
   "execution_count": 11,
   "metadata": {},
   "outputs": [
    {
     "name": "stdout",
     "output_type": "stream",
     "text": [
      "INTEL NO\n",
      "INTEL NO\n",
      "INTEL NO\n",
      "INTEL NO\n",
      "INTEL NO\n",
      "AMD YES\n"
     ]
    }
   ],
   "source": [
    "i = 1\n",
    "\n",
    "while i <= 5:\n",
    "    print('INTEL NO')\n",
    "    i += 1\n",
    "\n",
    "else:\n",
    "    print('AMD YES')"
   ]
  },
  {
   "cell_type": "markdown",
   "metadata": {},
   "source": [
    "### 2.2 break"
   ]
  },
  {
   "cell_type": "code",
   "execution_count": 12,
   "metadata": {},
   "outputs": [
    {
     "name": "stdout",
     "output_type": "stream",
     "text": [
      "INTEL NO\n",
      "INTEL NO\n",
      "AMD?\n"
     ]
    }
   ],
   "source": [
    "i = 1\n",
    "\n",
    "while i <= 5:\n",
    "    \n",
    "    if i == 3:\n",
    "        print('AMD?')\n",
    "        break\n",
    "    \n",
    "    print('INTEL NO')\n",
    "    i += 1\n",
    "\n",
    "else:\n",
    "    print('AMD YES')"
   ]
  },
  {
   "cell_type": "markdown",
   "metadata": {},
   "source": [
    "### 2.3 continue "
   ]
  },
  {
   "cell_type": "code",
   "execution_count": 14,
   "metadata": {},
   "outputs": [
    {
     "name": "stdout",
     "output_type": "stream",
     "text": [
      "INTEL NO\n",
      "INTEL NO\n",
      "AMD?\n",
      "INTEL NO\n",
      "INTEL NO\n",
      "AMD YES\n"
     ]
    }
   ],
   "source": [
    "i = 1\n",
    "\n",
    "while i <= 5:\n",
    "    \n",
    "    if i == 3:\n",
    "        print('AMD?')\n",
    "        i += 1\n",
    "        continue\n",
    "    \n",
    "    print('INTEL NO')\n",
    "    i += 1\n",
    "\n",
    "else:\n",
    "    print('AMD YES')"
   ]
  },
  {
   "cell_type": "markdown",
   "metadata": {},
   "source": [
    "## 3 for...else..."
   ]
  },
  {
   "cell_type": "markdown",
   "metadata": {},
   "source": [
    "### 3.1 语法"
   ]
  },
  {
   "cell_type": "code",
   "execution_count": 15,
   "metadata": {},
   "outputs": [
    {
     "name": "stdout",
     "output_type": "stream",
     "text": [
      "j\n",
      "u\n",
      "p\n",
      "y\n",
      "t\n",
      "e\n",
      "r\n",
      "循环正常结束之后执行的代码\n"
     ]
    }
   ],
   "source": [
    "str1 = 'jupyter'\n",
    "\n",
    "for i in str1:\n",
    "    print(i)\n",
    "else:\n",
    "    print('循环正常结束之后执行的代码')"
   ]
  },
  {
   "cell_type": "markdown",
   "metadata": {},
   "source": [
    "### 3.2 break"
   ]
  },
  {
   "cell_type": "code",
   "execution_count": 16,
   "metadata": {},
   "outputs": [
    {
     "name": "stdout",
     "output_type": "stream",
     "text": [
      "j\n",
      "u\n",
      "p\n",
      "y\n",
      "t\n",
      "遇到e停止\n"
     ]
    }
   ],
   "source": [
    "str1 = 'jupyter'\n",
    "\n",
    "for i in str1:\n",
    "    \n",
    "    if i == 'e':\n",
    "        print('遇到e停止')\n",
    "        break\n",
    "    \n",
    "    print(i)\n",
    "else:\n",
    "    print('循环正常结束之后执行的代码')"
   ]
  },
  {
   "cell_type": "markdown",
   "metadata": {},
   "source": [
    "### 3.3 continue"
   ]
  },
  {
   "cell_type": "code",
   "execution_count": 18,
   "metadata": {},
   "outputs": [
    {
     "name": "stdout",
     "output_type": "stream",
     "text": [
      "j\n",
      "u\n",
      "p\n",
      "y\n",
      "t\n",
      "遇到e跳过\n",
      "r\n",
      "循环正常结束之后执行的代码\n"
     ]
    }
   ],
   "source": [
    "str1 = 'jupyter'\n",
    "\n",
    "for i in str1:\n",
    "    \n",
    "    if i == 'e':\n",
    "        print('遇到e跳过')\n",
    "        continue\n",
    "    \n",
    "    print(i)\n",
    "else:\n",
    "    print('循环正常结束之后执行的代码')"
   ]
  }
 ],
 "metadata": {
  "kernelspec": {
   "display_name": "Python 3",
   "language": "python",
   "name": "python3"
  },
  "language_info": {
   "codemirror_mode": {
    "name": "ipython",
    "version": 3
   },
   "file_extension": ".py",
   "mimetype": "text/x-python",
   "name": "python",
   "nbconvert_exporter": "python",
   "pygments_lexer": "ipython3",
   "version": "3.7.6"
  }
 },
 "nbformat": 4,
 "nbformat_minor": 4
}
